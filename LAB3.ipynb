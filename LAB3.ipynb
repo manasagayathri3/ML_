{
 "cells": [
  {
   "cell_type": "code",
   "execution_count": 2,
   "id": "6bae187d-9f9d-4db6-a0c0-c735fa5770bd",
   "metadata": {},
   "outputs": [
    {
     "name": "stdout",
     "output_type": "stream",
     "text": [
      "Mean 1: Timestamp                  0.132297\n",
      "Gender                     0.000000\n",
      "Country                    1.000000\n",
      "Occupation                 0.250000\n",
      "self_employed              0.000000\n",
      "family_history             0.200000\n",
      "Days_Indoors               0.000000\n",
      "Growing_Stress             1.000000\n",
      "Changes_Habits             0.500000\n",
      "Mental_Health_History      1.000000\n",
      "Mood_Swings                1.000000\n",
      "Coping_Struggles           0.000000\n",
      "Work_Interest              0.500000\n",
      "Social_Weakness            1.000000\n",
      "mental_health_interview    0.500000\n",
      "care_options               0.300000\n",
      "dtype: float64\n",
      "Mean 2: Timestamp                  0.076339\n",
      "Gender                     0.000000\n",
      "Country                    1.000000\n",
      "Occupation                 0.250000\n",
      "self_employed              0.600000\n",
      "family_history             0.800000\n",
      "Days_Indoors               0.000000\n",
      "Growing_Stress             1.000000\n",
      "Changes_Habits             0.500000\n",
      "Mental_Health_History      1.000000\n",
      "Mood_Swings                1.000000\n",
      "Coping_Struggles           0.000000\n",
      "Work_Interest              0.500000\n",
      "Social_Weakness            1.000000\n",
      "mental_health_interview    0.400000\n",
      "care_options               0.700000\n",
      "dtype: float64\n",
      "STD 1: Timestamp                  0.018167\n",
      "Gender                     0.000000\n",
      "Country                    0.000000\n",
      "Occupation                 0.000000\n",
      "self_employed              0.000000\n",
      "family_history             0.400000\n",
      "Days_Indoors               0.000000\n",
      "Growing_Stress             0.000000\n",
      "Changes_Habits             0.000000\n",
      "Mental_Health_History      0.000000\n",
      "Mood_Swings                0.000000\n",
      "Coping_Struggles           0.000000\n",
      "Work_Interest              0.000000\n",
      "Social_Weakness            0.000000\n",
      "mental_health_interview    0.000000\n",
      "care_options               0.244949\n",
      "dtype: float64\n",
      "STD 2: Timestamp                  0.008130\n",
      "Gender                     0.000000\n",
      "Country                    0.000000\n",
      "Occupation                 0.000000\n",
      "self_employed              0.489898\n",
      "family_history             0.400000\n",
      "Days_Indoors               0.000000\n",
      "Growing_Stress             0.000000\n",
      "Changes_Habits             0.000000\n",
      "Mental_Health_History      0.000000\n",
      "Mood_Swings                0.000000\n",
      "Coping_Struggles           0.000000\n",
      "Work_Interest              0.000000\n",
      "Social_Weakness            0.000000\n",
      "mental_health_interview    0.200000\n",
      "care_options               0.400000\n",
      "dtype: float64\n",
      "Interclass distance: 0.9450562730499811\n"
     ]
    }
   ],
   "source": [
    "#A1\n",
    "import pandas as pd\n",
    "import numpy as np\n",
    "from sklearn.preprocessing import LabelEncoder, MaxAbsScaler\n",
    "\n",
    "def load_data(path):\n",
    "    df = pd.read_csv(path)\n",
    "    for col in df.columns:\n",
    "        if df[col].dtype == 'object':\n",
    "            df[col] = LabelEncoder().fit_transform(df[col].astype(str))\n",
    "    df.fillna(df.mean(numeric_only=True), inplace=True)\n",
    "    df_scaled = pd.DataFrame(MaxAbsScaler().fit_transform(df), columns=df.columns)\n",
    "    return df_scaled\n",
    "\n",
    "def class_spread_distance(X1, X2):\n",
    "    mean1 = np.mean(X1, axis=0)\n",
    "    mean2 = np.mean(X2, axis=0)\n",
    "    std1 = np.std(X1, axis=0)\n",
    "    std2 = np.std(X2, axis=0)\n",
    "    dist = np.linalg.norm(mean1 - mean2)\n",
    "    return mean1, mean2, std1, std2, dist\n",
    "\n",
    "if __name__ == \"__main__\":\n",
    "    path = r'C:/Users/Manasa Gayathri/Downloads/Mental Health Dataset.csv'\n",
    "    df = load_data(path)\n",
    "    X = df.drop(columns=[\"treatment\"])\n",
    "    y = df[\"treatment\"]\n",
    "    X1 = X[y == 0].head()\n",
    "    X2 = X[y == 1].head()\n",
    "    mean1, mean2, std1, std2, distance = class_spread_distance(X1, X2)\n",
    "    print(\"Mean 1:\", mean1)\n",
    "    print(\"Mean 2:\", mean2)\n",
    "    print(\"STD 1:\", std1)\n",
    "    print(\"STD 2:\", std2)\n",
    "    print(\"Interclass distance:\", distance)\n"
   ]
  },
  {
   "cell_type": "code",
   "execution_count": 5,
   "id": "8ff6e103-73f7-406d-90d3-9ae270fa39d9",
   "metadata": {},
   "outputs": [
    {
     "name": "stdout",
     "output_type": "stream",
     "text": [
      "Mean: 0.49082735904557334\n",
      "Variance: 0.12605421606064257\n"
     ]
    },
    {
     "data": {
      "image/png": "[encoded data removed]",
      "text/plain": [
       "<Figure size 640x480 with 1 Axes>"
      ]
     },
     "metadata": {},
     "output_type": "display_data"
    }
   ],
   "source": [
    "#A2\n",
    "import matplotlib.pyplot as plt\n",
    "import pandas as pd\n",
    "import numpy as np\n",
    "from sklearn.preprocessing import LabelEncoder, MaxAbsScaler\n",
    "\n",
    "def load_data(path):\n",
    "    df = pd.read_csv(path)\n",
    "    for col in df.columns:\n",
    "        if df[col].dtype == 'object':\n",
    "            df[col] = LabelEncoder().fit_transform(df[col].astype(str))\n",
    "    df.fillna(df.mean(numeric_only=True), inplace=True)\n",
    "    df_scaled = pd.DataFrame(MaxAbsScaler().fit_transform(df), columns=df.columns)\n",
    "    return df_scaled\n",
    "\n",
    "def feature_stats(column):\n",
    "    return column.mean(), column.var()\n",
    "\n",
    "def plot_histogram(column):\n",
    "    plt.hist(column, bins=5, edgecolor='black')\n",
    "    plt.title(\"Histogram\")\n",
    "    plt.xlabel(\"Value\")\n",
    "    plt.ylabel(\"Frequency\")\n",
    "    plt.grid(True)\n",
    "    plt.show()\n",
    "\n",
    "if __name__ == \"__main__\":\n",
    "    path =  r'C:/Users/Manasa Gayathri/Downloads/Mental Health Dataset.csv'\n",
    "    df = load_data(path)\n",
    "    feature = df[\"Days_Indoors\"]\n",
    "    mean, var = feature_stats(feature)\n",
    "    print(\"Mean:\", mean)\n",
    "    print(\"Variance:\", var)\n",
    "    plot_histogram(feature)\n"
   ]
  },
  {
   "cell_type": "code",
   "execution_count": 7,
   "id": "80ff077c-ad55-4692-8826-d9a6b911e6bc",
   "metadata": {},
   "outputs": [
    {
     "name": "stdout",
     "output_type": "stream",
     "text": [
      "r=1, distance=1.503454231433506\n",
      "r=2, distance=1.1180393247622358\n",
      "r=3, distance=1.0400419242267602\n",
      "r=4, distance=1.0152715924684748\n",
      "r=5, distance=1.0061733085428752\n",
      "r=6, distance=1.002587372575211\n",
      "r=7, distance=1.0011123525545684\n",
      "r=8, distance=1.0004874488165387\n",
      "r=9, distance=1.0002168257401103\n",
      "r=10, distance=1.0000976133611796\n"
     ]
    },
    {
     "data": {
      "image/png": "[encoded data removed]",
      "text/plain": [
       "<Figure size 640x480 with 1 Axes>"
      ]
     },
     "metadata": {},
     "output_type": "display_data"
    }
   ],
   "source": [
    "#A3\n",
    "import numpy as np\n",
    "\n",
    "def minkowski_distances(v1, v2):\n",
    "    r_vals = range(1, 11)\n",
    "    distances = [np.linalg.norm(v1 - v2, ord=r) for r in r_vals]\n",
    "    return r_vals, distances\n",
    "\n",
    "def plot_minkowski(r_vals, distances):\n",
    "    import matplotlib.pyplot as plt\n",
    "    plt.plot(r_vals, distances, marker='o')\n",
    "    plt.title(\"Minkowski Distance (r=1 to 10)\")\n",
    "    plt.xlabel(\"r\")\n",
    "    plt.ylabel(\"Distance\")\n",
    "    plt.grid(True)\n",
    "    plt.show()\n",
    "\n",
    "if __name__ == \"__main__\":\n",
    "    df = pd.read_csv(r'C:/Users/Manasa Gayathri/Downloads/Mental Health Dataset.csv')\n",
    "    for col in df.columns:\n",
    "        if df[col].dtype == 'object':\n",
    "            df[col] = LabelEncoder().fit_transform(df[col].astype(str))\n",
    "    df.fillna(df.mean(numeric_only=True), inplace=True)\n",
    "    df_scaled = pd.DataFrame(MaxAbsScaler().fit_transform(df), columns=df.columns)\n",
    "    X = df_scaled.drop(columns=[\"treatment\"])\n",
    "\n",
    "    v1, v2 = X.iloc[0].values, X.iloc[1].values\n",
    "    r_vals, distances = minkowski_distances(v1, v2)\n",
    "    for r, d in zip(r_vals, distances):\n",
    "        print(f\"r={r}, distance={d}\")\n",
    "    plot_minkowski(r_vals, distances)\n"
   ]
  },
  {
   "cell_type": "code",
   "execution_count": 9,
   "id": "812340b2-6d4d-4102-ac9a-492692c6d50c",
   "metadata": {},
   "outputs": [
    {
     "name": "stdout",
     "output_type": "stream",
     "text": [
      "Train size: 204654\n",
      "Test size: 87710\n"
     ]
    }
   ],
   "source": [
    "\n",
    "\n",
    "#A4\n",
    "from sklearn.model_selection import train_test_split\n",
    "\n",
    "def split_data(X, y):\n",
    "    return train_test_split(X, y, test_size=0.3, random_state=42)\n",
    "\n",
    "if __name__ == \"__main__\":\n",
    "    df = pd.read_csv(r'C:/Users/Manasa Gayathri/Downloads/Mental Health Dataset.csv')\n",
    "    for col in df.columns:\n",
    "        if df[col].dtype == 'object':\n",
    "            df[col] = LabelEncoder().fit_transform(df[col].astype(str))\n",
    "    df.fillna(df.mean(numeric_only=True), inplace=True)\n",
    "    df_scaled = pd.DataFrame(MaxAbsScaler().fit_transform(df), columns=df.columns)\n",
    "\n",
    "    X = df_scaled.drop(columns=[\"treatment\"])\n",
    "    y = df_scaled[\"treatment\"]\n",
    "    X_train, X_test, y_train, y_test = split_data(X, y)\n",
    "    print(\"Train size:\", len(X_train))\n",
    "    print(\"Test size:\", len(X_test))\n"
   ]
  },
  {
   "cell_type": "code",
   "execution_count": 12,
   "id": "e768a1bb-efbb-44a7-83d9-7e7e090a7625",
   "metadata": {},
   "outputs": [
    {
     "name": "stdout",
     "output_type": "stream",
     "text": [
      "kNN model trained on dataset.\n"
     ]
    }
   ],
   "source": [
    "#A5\n",
    "from sklearn.neighbors import KNeighborsClassifier\n",
    "from sklearn.preprocessing import LabelEncoder, MaxAbsScaler\n",
    "from sklearn.model_selection import train_test_split\n",
    "\n",
    "def load_data(path):\n",
    "    df = pd.read_csv(path)\n",
    "    for col in df.columns:\n",
    "        if df[col].dtype == 'object':\n",
    "            df[col] = LabelEncoder().fit_transform(df[col].astype(str))\n",
    "    df.fillna(df.mean(numeric_only=True), inplace=True)\n",
    "    df_scaled = pd.DataFrame(MaxAbsScaler().fit_transform(df), columns=df.columns)\n",
    "    return df_scaled\n",
    "\n",
    "def train_knn(X_train, y_train, k=3):\n",
    "    model = KNeighborsClassifier(n_neighbors=k)\n",
    "    model.fit(X_train, y_train)\n",
    "    return model\n",
    "\n",
    "if __name__ == \"__main__\":\n",
    "    df = load_data(r'C:/Users/Manasa Gayathri/Downloads/Mental Health Dataset.csv')\n",
    "    X = df.drop(columns=[\"treatment\"])\n",
    "    y = df[\"treatment\"]\n",
    "    X_train, X_test, y_train, y_test = train_test_split(X, y, test_size=0.3, random_state=42)\n",
    "    model = train_knn(X_train, y_train)\n",
    "    print(\"kNN model trained on dataset.\")\n"
   ]
  },
  {
   "cell_type": "code",
   "execution_count": 14,
   "id": "15e7d558-ef83-4cb0-abed-94549826dcd4",
   "metadata": {},
   "outputs": [
    {
     "name": "stdout",
     "output_type": "stream",
     "text": [
      "Accuracy  0.6417284232128606\n"
     ]
    }
   ],
   "source": [
    "#A6\n",
    "import pandas as pd\n",
    "import numpy as np\n",
    "from sklearn.preprocessing import LabelEncoder, MaxAbsScaler\n",
    "from sklearn.model_selection import train_test_split\n",
    "from sklearn.neighbors import KNeighborsClassifier\n",
    "\n",
    "def load_data(path):\n",
    "    df = pd.read_csv(path)\n",
    "    for col in df.columns:\n",
    "        if df[col].dtype == 'object':\n",
    "            df[col] = LabelEncoder().fit_transform(df[col].astype(str))\n",
    "    df.fillna(df.mean(numeric_only=True), inplace=True)\n",
    "    df_scaled = pd.DataFrame(MaxAbsScaler().fit_transform(df), columns=df.columns)\n",
    "    return df_scaled\n",
    "\n",
    "def train_knn(X_train, y_train, k=3):\n",
    "    model = KNeighborsClassifier(n_neighbors=k)\n",
    "    model.fit(np.ascontiguousarray(X_train.values), y_train.values)\n",
    "    return model\n",
    "\n",
    "def evaluate_accuracy(model, X_test, y_test):\n",
    "    return model.score(np.ascontiguousarray(X_test.values), y_test.values)\n",
    "\n",
    "if __name__ == \"__main__\":\n",
    "    df = load_data(r'C:/Users/Manasa Gayathri/Downloads/Mental Health Dataset.csv')\n",
    "    X = df.drop(columns=[\"treatment\"])\n",
    "    y = df[\"treatment\"]\n",
    "    X_train, X_test, y_train, y_test = train_test_split(X, y, test_size=0.3, random_state=42)\n",
    "    model = train_knn(X_train, y_train)\n",
    "    acc = evaluate_accuracy(model, X_test, y_test)\n",
    "    print(\"Accuracy \", acc)\n"
   ]
  },
  {
   "cell_type": "code",
   "execution_count": 16,
   "id": "9120ea0b-a090-4556-9f96-9c28ab4cf3e5",
   "metadata": {},
   "outputs": [
    {
     "name": "stdout",
     "output_type": "stream",
     "text": [
      "Predictions: [1. 1. 1. 1. 0. 1. 1. 1. 1. 1.]\n"
     ]
    }
   ],
   "source": [
    "#A7\n",
    "def predict(model, X_test):\n",
    "    return model.predict(np.ascontiguousarray(X_test.values))\n",
    "\n",
    "if __name__ == \"__main__\":\n",
    "    df = load_data(r'C:/Users/Manasa Gayathri/Downloads/Mental Health Dataset.csv')\n",
    "    X = df.drop(columns=[\"treatment\"])\n",
    "    y = df[\"treatment\"]\n",
    "    X_train, X_test, y_train, y_test = train_test_split(X, y, test_size=0.3, random_state=42)\n",
    "    model = train_knn(X_train, y_train)\n",
    "    y_pred = predict(model, X_test)\n",
    "    print(\"Predictions:\", y_pred[:10])\n"
   ]
  },
  {
   "cell_type": "code",
   "execution_count": 26,
   "id": "1cc25cc2-038a-4b3f-94e5-f1084cc7749a",
   "metadata": {},
   "outputs": [
    {
     "name": "stdout",
     "output_type": "stream",
     "text": [
      " k=1, Accuracy=0.6081\n",
      " k=2, Accuracy=0.6068\n",
      " k=3, Accuracy=0.6417\n",
      " k=4, Accuracy=0.6374\n",
      " k=5, Accuracy=0.6576\n",
      " k=6, Accuracy=0.6472\n",
      " k=7, Accuracy=0.6670\n",
      " k=8, Accuracy=0.6611\n",
      " k=9, Accuracy=0.6757\n",
      " k=10, Accuracy=0.6720\n",
      " k=11, Accuracy=0.6828\n"
     ]
    },
    {
     "data": {
      "image/png": "[encoded data removed]",
      "text/plain": [
       "<Figure size 640x480 with 1 Axes>"
      ]
     },
     "metadata": {},
     "output_type": "display_data"
    }
   ],
   "source": [
    "#A8\n",
    "import matplotlib.pyplot as plt\n",
    "\n",
    "def accuracy_vs_k(X_train, y_train, X_test, y_test):\n",
    "    k_vals = range(1, 12)\n",
    "    accuracies = []\n",
    "    for k in k_vals:\n",
    "        model = KNeighborsClassifier(n_neighbors=k)\n",
    "        model.fit(np.ascontiguousarray(X_train.values), y_train.values)\n",
    "        acc = model.score(np.ascontiguousarray(X_test.values), y_test.values)\n",
    "        accuracies.append(acc)\n",
    "    return list(k_vals), accuracies\n",
    "\n",
    "def plot_accuracy_k(k_vals, accuracies):\n",
    "    plt.plot(k_vals, accuracies, marker='o')\n",
    "    plt.title(\"Accuracy vs k\")\n",
    "    plt.xlabel(\"k\")\n",
    "    plt.ylabel(\"Accuracy\")\n",
    "    plt.grid(True)\n",
    "    plt.show()\n",
    "\n",
    "if __name__ == \"__main__\":\n",
    "    df = load_data(r'C:/Users/Manasa Gayathri/Downloads/Mental Health Dataset.csv')\n",
    "    X = df.drop(columns=[\"treatment\"])\n",
    "    y = df[\"treatment\"]\n",
    "    X_train, X_test, y_train, y_test = train_test_split(X, y, test_size=0.3, random_state=42)\n",
    "    k_vals, accs = accuracy_vs_k(X_train, y_train, X_test, y_test)\n",
    "    for k, acc in zip(k_vals, accs):\n",
    "        print(f\" k={k}, Accuracy={acc:.4f}\")\n",
    "    plot_accuracy_k(k_vals, accs)\n",
    "\n"
   ]
  },
  {
   "cell_type": "code",
   "execution_count": 19,
   "id": "1b10a8ca-7afd-401a-81d6-ebf885c987df",
   "metadata": {},
   "outputs": [
    {
     "name": "stdout",
     "output_type": "stream",
     "text": [
      "Confusion Matrix:\n",
      " [[27488 16041]\n",
      " [15383 28798]]\n",
      "Classification Report:\n",
      "               precision    recall  f1-score   support\n",
      "\n",
      "         0.0       0.64      0.63      0.64     43529\n",
      "         1.0       0.64      0.65      0.65     44181\n",
      "\n",
      "    accuracy                           0.64     87710\n",
      "   macro avg       0.64      0.64      0.64     87710\n",
      "weighted avg       0.64      0.64      0.64     87710\n",
      "\n"
     ]
    }
   ],
   "source": [
    "#A9\n",
    "from sklearn.metrics import confusion_matrix, classification_report\n",
    "\n",
    "def evaluation_report(y_test, y_pred):\n",
    "    cm = confusion_matrix(y_test, y_pred)\n",
    "    report = classification_report(y_test, y_pred)\n",
    "    return cm, report\n",
    "\n",
    "if __name__ == \"__main__\":\n",
    "    df = load_data(r'C:/Users/Manasa Gayathri/Downloads/Mental Health Dataset.csv')\n",
    "    X = df.drop(columns=[\"treatment\"])\n",
    "    y = df[\"treatment\"]\n",
    "    X_train, X_test, y_train, y_test = train_test_split(X, y, test_size=0.3, random_state=42)\n",
    "    model = train_knn(X_train, y_train)\n",
    "    y_pred = predict(model, X_test)\n",
    "    cm, report = evaluation_report(y_test.values, y_pred)\n",
    "    print(\"Confusion Matrix:\\n\", cm)\n",
    "    print(\"Classification Report:\\n\", report)\n"
   ]
  },
  {
   "cell_type": "code",
   "execution_count": null,
   "id": "7e0ec8e1-289f-4fa6-8519-89e6cb232f16",
   "metadata": {},
   "outputs": [],
   "source": []
  }
 ],
 "metadata": {
  "kernelspec": {
   "display_name": "Python 3 (ipykernel)",
   "language": "python",
   "name": "python3"
  },
  "language_info": {
   "codemirror_mode": {
    "name": "ipython",
    "version": 3
   },
   "file_extension": ".py",
   "mimetype": "text/x-python",
   "name": "python",
   "nbconvert_exporter": "python",
   "pygments_lexer": "ipython3",
   "version": "3.12.4"
  }
 },
 "nbformat": 4,
 "nbformat_minor": 5
}
